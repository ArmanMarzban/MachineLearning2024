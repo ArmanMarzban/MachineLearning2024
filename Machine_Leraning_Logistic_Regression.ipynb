{
  "nbformat": 4,
  "nbformat_minor": 0,
  "metadata": {
    "colab": {
      "provenance": [],
      "gpuType": "T4",
      "authorship_tag": "ABX9TyMj8+XPa1JO0+BBUIuHk1Fl",
      "include_colab_link": true
    },
    "kernelspec": {
      "name": "python3",
      "display_name": "Python 3"
    },
    "language_info": {
      "name": "python"
    },
    "accelerator": "GPU"
  },
  "cells": [
    {
      "cell_type": "markdown",
      "metadata": {
        "id": "view-in-github",
        "colab_type": "text"
      },
      "source": [
        "<a href=\"https://colab.research.google.com/github/ArmanMarzban/MachineLearning2024/blob/main/Machine_Leraning_Logistic_Regression.ipynb\" target=\"_parent\"><img src=\"https://colab.research.google.com/assets/colab-badge.svg\" alt=\"Open In Colab\"/></a>"
      ]
    },
    {
      "cell_type": "code",
      "execution_count": 1,
      "metadata": {
        "id": "N9ge_4TClpp3"
      },
      "outputs": [],
      "source": [
        "import pandas as pd\n",
        "import numpy as np\n",
        "import matplotlib.pyplot as plt\n"
      ]
    },
    {
      "cell_type": "code",
      "source": [
        "!pip install --upgrade --no-cache-dir gdown\n",
        "!gdown 18ETECLmR2FqvJEFmVXJO4Kz9H8efFpRC"
      ],
      "metadata": {
        "id": "OK3_nWmzn6Z-"
      },
      "execution_count": null,
      "outputs": []
    },
    {
      "cell_type": "code",
      "source": [
        "import pandas as pd\n",
        "import numpy as np\n",
        "import matplotlib.pyplot as plt\n",
        "\n",
        "df = pd.read_csv('/content/Game.csv')\n",
        "df = df.dropna()\n",
        "df"
      ],
      "metadata": {
        "id": "UQE7GMISodSH"
      },
      "execution_count": null,
      "outputs": []
    },
    {
      "cell_type": "code",
      "source": [
        "from sklearn.model_selection import train_test_split\n",
        "\n",
        "X = df[['p_hours']].values\n",
        "y = df[['w_l']].values\n",
        "X, y"
      ],
      "metadata": {
        "id": "HdGtqW2kpgaN"
      },
      "execution_count": null,
      "outputs": []
    },
    {
      "cell_type": "code",
      "source": [
        "x_train, x_test, y_train, y_test = train_test_split(X, y, test_size=0.2)\n",
        "x_train.shape, x_test.shape, y_train.shape, y_test.shape"
      ],
      "metadata": {
        "id": "vvQ6__fTqiIK"
      },
      "execution_count": null,
      "outputs": []
    },
    {
      "cell_type": "code",
      "source": [
        "def sigmoid(x):\n",
        "  return 1/(1+np.exp(-x))"
      ],
      "metadata": {
        "id": "8ByVA27GrTuO"
      },
      "execution_count": 20,
      "outputs": []
    },
    {
      "cell_type": "code",
      "source": [
        "def logistic_regression(x, w):\n",
        "  y_hat = sigmoid(x@w)\n",
        "  return y_hat"
      ],
      "metadata": {
        "id": "Auq3fbiQrijw"
      },
      "execution_count": 21,
      "outputs": []
    },
    {
      "cell_type": "code",
      "source": [
        "y_hat = logistic_regression(np.random.randn(5, 2), np.random.randn(2, 1))\n",
        "y_hat"
      ],
      "metadata": {
        "id": "OX2wS6MvsrKX"
      },
      "execution_count": null,
      "outputs": []
    },
    {
      "cell_type": "markdown",
      "source": [
        "$L=-[ylog(\\hat{y})+(1-y)log(1-\\hat{y})]$"
      ],
      "metadata": {
        "id": "61fWN6div6es"
      }
    },
    {
      "cell_type": "code",
      "source": [
        "# Binary Cross Entropy Loss Function\n",
        "def bce(y, y_hat):\n",
        "  loss= -(np.mean(y*np.log(y_hat)+(1-y)*np.log(1-y_hat)))\n",
        "  return loss\n",
        "\n",
        ""
      ],
      "metadata": {
        "id": "EDgyXFOWtXlu"
      },
      "execution_count": 28,
      "outputs": []
    },
    {
      "cell_type": "code",
      "source": [
        "  bce(np.ones((5, 1)), y_hat)\n"
      ],
      "metadata": {
        "id": "LZ0xXvM0uVBO"
      },
      "execution_count": null,
      "outputs": []
    },
    {
      "cell_type": "markdown",
      "source": [
        "$\\nabla L_w(w)=\\frac{1}{n}X^T(\\hat{y}-y)$"
      ],
      "metadata": {
        "id": "WJic_c6WvmIe"
      }
    },
    {
      "cell_type": "code",
      "source": [
        "def gradient(x, y, y_hat):\n",
        "  grads = (x.T @ (y_hat - y))/len(y)\n",
        "  return grads\n",
        ""
      ],
      "metadata": {
        "id": "ine7QJrcwBWB"
      },
      "execution_count": 31,
      "outputs": []
    },
    {
      "cell_type": "code",
      "source": [
        "gradient(np.random.randn(5, 2), np.ones((5, 1)), y_hat)"
      ],
      "metadata": {
        "id": "jFYjNyIzwYHX"
      },
      "execution_count": null,
      "outputs": []
    },
    {
      "cell_type": "markdown",
      "source": [
        "Gradien Descent"
      ],
      "metadata": {
        "id": "u2RxO9stwy4v"
      }
    },
    {
      "cell_type": "code",
      "source": [
        "def gradien_descent(w, eta, grads):\n",
        "  w-= eta*grads\n",
        "  return w\n",
        ""
      ],
      "metadata": {
        "id": "bLW6axxjw7to"
      },
      "execution_count": 34,
      "outputs": []
    },
    {
      "cell_type": "markdown",
      "source": [
        "Accuracy"
      ],
      "metadata": {
        "id": "7UIgAjWhxQSd"
      }
    },
    {
      "cell_type": "code",
      "source": [
        "def accuracy(y, y_hat):\n",
        "  acc= np.sum(y==np.round(y_hat)) / len(y)\n",
        "  return acc"
      ],
      "metadata": {
        "id": "UaAKD8RixNio"
      },
      "execution_count": 35,
      "outputs": []
    },
    {
      "cell_type": "code",
      "source": [
        "accuracy(np.array([1, 0, 1]), np.array([0.7, 0.4, 0.3]))"
      ],
      "metadata": {
        "colab": {
          "base_uri": "https://localhost:8080/"
        },
        "id": "UOalEdu1xr50",
        "outputId": "712dd350-a110-4bf5-cc85-0a9ba4f062f9"
      },
      "execution_count": 37,
      "outputs": [
        {
          "output_type": "execute_result",
          "data": {
            "text/plain": [
              "0.6666666666666666"
            ]
          },
          "metadata": {},
          "execution_count": 37
        }
      ]
    },
    {
      "cell_type": "markdown",
      "source": [
        "Train"
      ],
      "metadata": {
        "id": "gmUdUhbWxnUh"
      }
    },
    {
      "cell_type": "code",
      "source": [
        "x_train = np.hstack((np.ones((len(x_train), 1)), x_train))\n",
        "x_train.shape"
      ],
      "metadata": {
        "id": "hGXaUzWWxmYU"
      },
      "execution_count": null,
      "outputs": []
    },
    {
      "cell_type": "code",
      "source": [
        "m=1\n",
        "w = np.random.randn(m+1, 1)\n",
        "print(w.shape)\n",
        "eta = 0.01\n",
        "n_epochs =500 #N itrations"
      ],
      "metadata": {
        "colab": {
          "base_uri": "https://localhost:8080/"
        },
        "id": "077TdqyjygFn",
        "outputId": "2e356091-bcb6-40ba-f8e2-9f675b422ac0"
      },
      "execution_count": 40,
      "outputs": [
        {
          "output_type": "stream",
          "name": "stdout",
          "text": [
            "(2, 1)\n"
          ]
        }
      ]
    },
    {
      "cell_type": "code",
      "source": [
        "error_hist=[]\n",
        "for epoch in range(n_epochs):\n",
        "  #predictions\n",
        "  y_hat = logistic_regression(x_train, w)\n",
        "\n",
        "  #loss\n",
        "  e = bce(y_train, y_hat)\n",
        "  error_hist.append(e)\n",
        "\n",
        "  #gradients\n",
        "  grads = gradient(x_train, y_train, y_hat)\n",
        "  # gradient descent\n",
        "  w=gradien_descent(w, eta, grads)\n",
        "\n",
        "  if (epoch+1) %10 ==0:\n",
        "    print(f'Epoch={epoch},\\t E={e:0.4}, \\t w={w.T[0]}')\n",
        "\n"
      ],
      "metadata": {
        "id": "0saBgxBRy5HU"
      },
      "execution_count": null,
      "outputs": []
    },
    {
      "cell_type": "code",
      "source": [
        "plt.plot(error_hist)"
      ],
      "metadata": {
        "colab": {
          "base_uri": "https://localhost:8080/",
          "height": 447
        },
        "id": "Ih8pPMfD1Kob",
        "outputId": "94e1a8db-9e61-48ee-c52a-41d3e8e76747"
      },
      "execution_count": 49,
      "outputs": [
        {
          "output_type": "execute_result",
          "data": {
            "text/plain": [
              "[<matplotlib.lines.Line2D at 0x7b70ad13d6c0>]"
            ]
          },
          "metadata": {},
          "execution_count": 49
        },
        {
          "output_type": "display_data",
          "data": {
            "text/plain": [
              "<Figure size 640x480 with 1 Axes>"
            ],
            "image/png": "[encoded data removed]"
          },
          "metadata": {}
        }
      ]
    }
  ]
}